{
  "nbformat": 4,
  "nbformat_minor": 0,
  "metadata": {
    "colab": {
      "name": "StudnetLoanPaymentCalculator.ipynb",
      "version": "0.3.2",
      "provenance": [],
      "collapsed_sections": [
        "uwjKbDOQ5SFE",
        "lvGrh6hBxb30"
      ],
      "include_colab_link": true
    },
    "kernelspec": {
      "name": "python3",
      "display_name": "Python 3"
    }
  },
  "cells": [
    {
      "cell_type": "markdown",
      "metadata": {
        "id": "view-in-github",
        "colab_type": "text"
      },
      "source": [
        "[View in Colaboratory](https://colab.research.google.com/github/rahutchinson/StudentLoanPaymentSandbox/blob/master/StudnetLoanPaymentCalculator.ipynb)"
      ]
    },
    {
      "metadata": {
        "id": "pMHOslQGM0cQ",
        "colab_type": "text"
      },
      "cell_type": "markdown",
      "source": [
        "# Student Loan Most Efficient Pay Off Schedule\n",
        "\n",
        "####Paying off highest rate **VS** Paying off highest daily cost\n",
        "\n",
        "#####Background\n",
        "This project was motivated by many people saying that the best possible way to pay off debt is the throw all you can at the highest interest rate that you have. Here is the mathmatical proof that although that is true most of the time, it is not always. \n",
        "\n",
        "#####Algorithms\n",
        "The solution that I found that saved me $12 was to throw all your money at the debt that is costing you the most per day. So the intrest rate/365 * principal. You can see all of this below. "
      ]
    },
    {
      "metadata": {
        "id": "uwjKbDOQ5SFE",
        "colab_type": "text"
      },
      "cell_type": "markdown",
      "source": [
        "# Setup\n"
      ]
    },
    {
      "metadata": {
        "id": "id-BurTE5ZBj",
        "colab_type": "text"
      },
      "cell_type": "markdown",
      "source": [
        "You need the basics. "
      ]
    },
    {
      "metadata": {
        "id": "GLH1xbmq0J3b",
        "colab_type": "code",
        "colab": {}
      },
      "cell_type": "code",
      "source": [
        "import pandas as pd\n",
        "import numpy as np\n",
        "%matplotlib inline\n",
        "\n",
        "import matplotlib\n",
        "import matplotlib.pyplot as plt\n"
      ],
      "execution_count": 0,
      "outputs": []
    },
    {
      "metadata": {
        "id": "5kXN78uq5rzb",
        "colab_type": "text"
      },
      "cell_type": "markdown",
      "source": [
        "#Debt Group Definition"
      ]
    },
    {
      "metadata": {
        "id": "lhFmzg0o03Jb",
        "colab_type": "code",
        "colab": {}
      },
      "cell_type": "code",
      "source": [
        "class Group:\n",
        "  def __init__(self, group_name,group_rate,group_princp, _active, _min_pay):\n",
        "    self.name = group_name\n",
        "    self.rate = group_rate\n",
        "    self.active = _active\n",
        "    self.daily_rate = group_rate/365.25\n",
        "    self.principal = group_princp\n",
        "    self.history = pd.DataFrame(index=range(0,1095), columns=['Principal', 'Day Cost'])\n",
        "    self.day = 0\n",
        "    self.min_pay = _min_pay\n",
        "    self.payments = []\n",
        "    self.done = 0\n",
        "    \n",
        "    \"\"\"\n",
        "     This function calculates and adds the daily interest for the object.\n",
        "     \n",
        "    \"\"\"\n",
        "  def add_daily_interest(self):\n",
        "    if(self.active):\n",
        "      self.principal = round((self.principal + (self.principal * self.daily_rate)),2)\n",
        "      \n",
        "    \"\"\"\n",
        "     This function pays the minimum payment of the debt group\n",
        "     \n",
        "     Returns:\n",
        "        The amount paid as a float\n",
        "    \"\"\"\n",
        "  def pay_min(self):\n",
        "    self.principal = self.principal - self.min_pay\n",
        "    return self.min_pay\n",
        "  \n",
        "  \"\"\"\n",
        "     This function is a day iteration it:\n",
        "        - adds the daily interest to the principal\n",
        "        - adds the principal and daily cost to the history dataframe\n",
        "        - checks to see if it is paid off and marks if it is\n",
        "        - iterates the interal day clock\n",
        "    \"\"\"\n",
        "  def record(self):\n",
        "    self.add_daily_interest()\n",
        "    self.history.iat[self.day, 0]=self.principal\n",
        "    self.history.iat[self.day, 1]=self.per_day_cost()\n",
        "    if(self.principal == 0 and self.done == 0):\n",
        "      self.done = self.day\n",
        "      self.principal = 0\n",
        "      self.rate = 0\n",
        "      self.active = False\n",
        "    self.day = self.day + 1\n",
        "    \"\"\"\n",
        "    This function takes payments and walks through making the payment and returning whats left\n",
        "\n",
        "    Args: \n",
        "      amount: the amount wanted to pay\n",
        "\n",
        "    Returns:\n",
        "      a float that has the amount leftover after paying off group\n",
        "    \"\"\"\n",
        "  def payment(self, amount):\n",
        "    if(amount > self.principal):\n",
        "      amount = amount-self.principal\n",
        "      self.payments.append([self.day, self.principal])\n",
        "      self.principal = 0\n",
        "      return amount\n",
        "    else:\n",
        "      self.principal = self.principal - amount\n",
        "      self.payments.append([self.day, amount])\n",
        "      return 0\n",
        "    \n",
        "  \"\"\"\n",
        "     This function calculates the current daily cost for the object\n",
        "    \n",
        "     Returns:\n",
        "        a float that is the daily cost if active\n",
        "  \"\"\"\n",
        "  def per_day_cost(self):\n",
        "    if(self.active):\n",
        "      return self.principal * self.daily_rate\n",
        "    return 0"
      ],
      "execution_count": 0,
      "outputs": []
    },
    {
      "metadata": {
        "id": "09rUkcsz6BwR",
        "colab_type": "text"
      },
      "cell_type": "markdown",
      "source": [
        "# Payment Exploration & Results\n"
      ]
    },
    {
      "metadata": {
        "id": "lvGrh6hBxb30",
        "colab_type": "text"
      },
      "cell_type": "markdown",
      "source": [
        "## Experiment Function\n",
        "\n"
      ]
    },
    {
      "metadata": {
        "id": "yigTYkwDwjkO",
        "colab_type": "code",
        "colab": {}
      },
      "cell_type": "code",
      "source": [
        "\"\"\"\n",
        "This function is the experiment with high rate vs high daily cost payment\n",
        "\n",
        "Args:\n",
        "    Groups: List of active groups to make payments on\n",
        "    mon_payment: the monthly payment user wants to make\n",
        "    rate: the flag to switch from high_rate to high_daily\n",
        "\n",
        "Returns:\n",
        "  The leftover of the mon_payment if overpaid\n",
        "\n",
        "Raises:\n",
        "    None\n",
        "\"\"\"\n",
        "\n",
        "def payment_exp_1(Groups, mon_payment,rate):\n",
        "  #find hightest daily cost\n",
        "  high_cost = max(group.per_day_cost() for group in Groups)\n",
        "  high_cost_group = None\n",
        "  for group in Groups:\n",
        "    if(group.per_day_cost() == high_cost):\n",
        "      high_cost_group = group\n",
        "      break\n",
        "      \n",
        "  #find hightest interest rate\n",
        "  high_rate_group_rate = max(group.rate for group in Groups)\n",
        "  high_rate_group = None\n",
        "  for group in Groups:\n",
        "    if(group.rate == high_rate_group_rate):\n",
        "      high_rate_group = group\n",
        "      break\n",
        "      \n",
        "  #Pay it and give back the leftover if amount more than principal\n",
        "  left_over = 0\n",
        "  if(rate):\n",
        "    left_over = high_rate_group.payment(mon_payment)\n",
        "  else:\n",
        "    left_over = high_cost_group.payment(mon_payment)\n",
        "  return round(left_over,2)"
      ],
      "execution_count": 0,
      "outputs": []
    },
    {
      "metadata": {
        "id": "9qL6REWoxjeJ",
        "colab_type": "text"
      },
      "cell_type": "markdown",
      "source": [
        "## Main Munch\n",
        "This is where you actully input data"
      ]
    },
    {
      "metadata": {
        "id": "UD9NHYWP81vX",
        "colab_type": "code",
        "colab": {
          "base_uri": "https://localhost:8080/",
          "height": 698
        },
        "outputId": "24b36e0d-76fc-4f3b-9726-93c9c686ba81"
      },
      "cell_type": "code",
      "source": [
        "#@title High Rate or High Cost\n",
        "HIGH_RATE = False #@param {type:\"boolean\"}\n",
        "\n",
        "#True = high rate model\n",
        "#False = high daily cost model\n",
        "PAYMENT_TIME = 30\n",
        "MONTH_CROSSOVER = 4 #months until grace period\n",
        "\n",
        "\n",
        "'''\n",
        "________________________________________\n",
        "Instantiate\n",
        "________________________________________\n",
        "'''\n",
        "A = Group(\"A\", .0466, 3400.00, False,0)\n",
        "B = Group(\"B\", .0466, 1996.08, True,0)\n",
        "C = Group(\"C\", .0429, 5500.00, False,0)\n",
        "D = Group(\"D\", .0429, 2103.66, True,0)\n",
        "E = Group(\"E\", .0376, 7739.26, True,0)\n",
        "G = Group(\"G\", .0445, 7662.62, True,0)\n",
        "\n",
        "\n",
        "groups = [A,B,C,D,E,G]\n",
        "total_principal = 0\n",
        "\n",
        "# Total Principal\n",
        "for group in groups:\n",
        "  total_principal += round(group.principal,2)\n",
        "\n",
        "active_groups = [group for group in groups if group.active == True]\n",
        "\n",
        "\n",
        "# Main Munch\n",
        "month_watch = 0\n",
        "month_count = 0\n",
        "# change this to while there is an active group\n",
        "while any(group.active for group in groups):\n",
        "  leftover = 0\n",
        "  if(month_watch == 0):\n",
        "    leftover = payment_exp_1(active_groups,1500,HIGH_RATE)\n",
        "    if(leftover != 0):\n",
        "      payment_exp_1(active_groups,leftover, HIGH_RATE)\n",
        "    for group in groups:\n",
        "      group.record()\n",
        "    month_watch = PAYMENT_TIME\n",
        "    month_count +=1\n",
        "    if(month_count == MONTH_CROSSOVER):\n",
        "      active_groups = groups\n",
        "      for group in groups:\n",
        "        group.active = True\n",
        "  else:\n",
        "    for group in groups:\n",
        "      group.record()\n",
        "    month_watch -=1\n",
        "\n",
        "histories = [A.history, B.history,C.history, D.history,E.history,G.history]\n",
        "plt.figure()\n",
        "concated = pd.concat(histories)\n",
        "\n",
        "concated.plot(y='Day Cost')\n",
        "concated.plot(y='Principal')\n",
        "total = 0\n",
        "for group in groups:\n",
        "  for payment in group.payments:\n",
        "    total += payment[1]\n",
        "    \n",
        "print(\"Begining Total: $\" + str(total_principal))\n",
        "print(\"Amount Paid: $\" + str(total))\n",
        "print(\"Intrest Paid: \" + str(total-total_principal))\n",
        "print(\"Months Taken: \" + str(month_count))\n",
        "print(\"A: \" + str(A.done))\n",
        "print(\"B: \" + str(B.done))\n",
        "print(\"C: \" + str(C.done))\n",
        "print(\"D: \" + str(D.done))\n",
        "print(\"E: \" + str(E.done))\n",
        "print(\"G: \" + str(G.done))"
      ],
      "execution_count": 38,
      "outputs": [
        {
          "output_type": "stream",
          "text": [
            "Begining Total: $28401.62\n",
            "Amount Paid: $29269.839999999997\n",
            "Intrest Paid: 868.2199999999975\n",
            "Months Taken: 21\n",
            "A: 558\n",
            "B: 558\n",
            "C: 527\n",
            "D: 620\n",
            "E: 589\n",
            "G: 589\n"
          ],
          "name": "stdout"
        },
        {
          "output_type": "display_data",
          "data": {
            "text/plain": [
              "<matplotlib.figure.Figure at 0x7f24208056d8>"
            ]
          },
          "metadata": {
            "tags": []
          }
        },
        {
          "output_type": "display_data",
          "data": {
            "image/png": "[encoded data removed]",
            "text/plain": [
              "<matplotlib.figure.Figure at 0x7f2422b539e8>"
            ]
          },
          "metadata": {
            "tags": []
          }
        },
        {
          "output_type": "display_data",
          "data": {
            "image/png": "[encoded data removed]",
            "text/plain": [
              "<matplotlib.figure.Figure at 0x7f24205544e0>"
            ]
          },
          "metadata": {
            "tags": []
          }
        }
      ]
    }
  ]
}