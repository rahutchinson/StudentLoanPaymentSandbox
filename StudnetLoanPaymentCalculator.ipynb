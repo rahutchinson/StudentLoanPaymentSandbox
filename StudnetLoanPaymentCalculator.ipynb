{
  "nbformat": 4,
  "nbformat_minor": 0,
  "metadata": {
    "colab": {
      "name": "StudnetLoanPaymentCalculator.ipynb",
      "version": "0.3.2",
      "provenance": [],
      "collapsed_sections": [],
      "include_colab_link": true
    },
    "kernelspec": {
      "name": "python3",
      "display_name": "Python 3"
    }
  },
  "cells": [
    {
      "cell_type": "markdown",
      "metadata": {
        "id": "view-in-github",
        "colab_type": "text"
      },
      "source": [
        "[View in Colaboratory](https://colab.research.google.com/github/rahutchinson/StudentLoanPaymentSandbox/blob/master/StudnetLoanPaymentCalculator.ipynb)"
      ]
    },
    {
      "metadata": {
        "id": "pMHOslQGM0cQ",
        "colab_type": "text"
      },
      "cell_type": "markdown",
      "source": [
        "# Student Loan Most Efficient Pay Off Schedule\n",
        "\n",
        "####Paying off highest rate **VS** Paying off highest daily cost\n",
        "\n",
        "#####Background\n",
        "This project was motivated by many people saying that the best possible way to pay off debt is the throw all you can at the highest interest rate that you have. Here is the mathmatical proof that although that is true most of the time, it is not always. \n",
        "\n",
        "#####Algorithms\n",
        "The solution that I found that saved me $12 was to throw all your money at the debt that is costing you the most per day. So the intrest rate/365 * principal. You can see all of this below. "
      ]
    },
    {
      "metadata": {
        "id": "uwjKbDOQ5SFE",
        "colab_type": "text"
      },
      "cell_type": "markdown",
      "source": [
        "# Setup\n"
      ]
    },
    {
      "metadata": {
        "id": "id-BurTE5ZBj",
        "colab_type": "text"
      },
      "cell_type": "markdown",
      "source": [
        "You need the basics. "
      ]
    },
    {
      "metadata": {
        "id": "GLH1xbmq0J3b",
        "colab_type": "code",
        "colab": {}
      },
      "cell_type": "code",
      "source": [
        "import pandas as pd\n",
        "import numpy as np\n",
        "%matplotlib inline\n",
        "\n",
        "import matplotlib\n",
        "import matplotlib.pyplot as plt\n",
        "PAYMENT_TIME = 30"
      ],
      "execution_count": 0,
      "outputs": []
    },
    {
      "metadata": {
        "id": "5kXN78uq5rzb",
        "colab_type": "text"
      },
      "cell_type": "markdown",
      "source": [
        "#Debt Group Definition"
      ]
    },
    {
      "metadata": {
        "id": "lhFmzg0o03Jb",
        "colab_type": "code",
        "colab": {}
      },
      "cell_type": "code",
      "source": [
        "class Group:\n",
        "  def __init__(self, group_name,group_rate,group_princp, _active, _min_pay):\n",
        "    self.name = group_name\n",
        "    self.rate = group_rate\n",
        "    self.active = _active\n",
        "    self.daily_rate = group_rate/365\n",
        "    self.principal = group_princp\n",
        "    self.history = pd.DataFrame(index=range(0,730), columns=['Principal', 'Day Cost'])\n",
        "    self.day = 0\n",
        "    self.min_pay = _min_pay\n",
        "    self.payments = []\n",
        "    self.done = 0\n",
        "    \n",
        "  def add_daily_interest(self):\n",
        "    if(self.active):\n",
        "      self.principal = round((self.principal + (self.principal * self.daily_rate)),2)\n",
        "    \n",
        "  def pay_min(self):\n",
        "    self.principal = self.principal - self.min_pay\n",
        "    return self.min_pay\n",
        "  def record(self):\n",
        "    self.add_daily_interest()\n",
        "    self.history.iat[self.day, 0]=self.principal\n",
        "    self.history.iat[self.day, 1]=self.per_day_cost()\n",
        "    if(self.principal == 0 and self.done == 0):\n",
        "      self.done = self.day\n",
        "      self.principal = 0\n",
        "      self.rate = 0\n",
        "    self.day = self.day + 1\n",
        "     \n",
        "  def payment(self, amount):\n",
        "    if(amount > self.principal):\n",
        "      amount = amount-self.principal\n",
        "      self.payments.append([self.day, self.principal])\n",
        "      self.principal = 0\n",
        "      return amount\n",
        "    else:\n",
        "      self.principal = self.principal - amount\n",
        "      self.payments.append([self.day, amount])\n",
        "      return 0\n",
        "    \n",
        "  def per_day_cost(self):\n",
        "    if(self.active):\n",
        "      return self.principal * self.daily_rate\n",
        "    return 0"
      ],
      "execution_count": 0,
      "outputs": []
    },
    {
      "metadata": {
        "id": "09rUkcsz6BwR",
        "colab_type": "text"
      },
      "cell_type": "markdown",
      "source": [
        "# Payment Exploration & Results\n"
      ]
    },
    {
      "metadata": {
        "id": "UD9NHYWP81vX",
        "colab_type": "code",
        "colab": {
          "base_uri": "https://localhost:8080/",
          "height": 614
        },
        "outputId": "5f3d6f38-8524-4153-ee68-9604c8e288f7"
      },
      "cell_type": "code",
      "source": [
        "#@title High Rate or High Cost\n",
        "High_Rate = False #@param {type:\"boolean\"}\n",
        "\n",
        "#True = high rate model\n",
        "#False = high daily cost model\n",
        "\n",
        "\n",
        "RATE = False\n",
        "\n",
        "def payment_exp_1(Groups, mon_payment,rate):\n",
        "  #find hightest daily cost\n",
        "  high_cost = max(group.per_day_cost() for group in Groups)\n",
        "  high_cost_group = None\n",
        "  for group in Groups:\n",
        "    if(group.per_day_cost() == high_cost):\n",
        "      high_cost_group = group\n",
        "      break\n",
        "      \n",
        "  #find hightest interest rate\n",
        "  high_rate_group_rate = max(group.rate for group in Groups)\n",
        "  high_rate_group = None\n",
        "  for group in Groups:\n",
        "    if(group.rate == high_rate_group_rate):\n",
        "      high_rate_group = group\n",
        "      break\n",
        "  left_over = 0\n",
        "  if(rate):\n",
        "    left_over = high_rate_group.payment(mon_payment)\n",
        "  else:\n",
        "    left_over = high_cost_group.payment(mon_payment)\n",
        "  #print(high_cost_group.name + \": \" + str(high_cost_group.principal))\n",
        "  return round(left_over,2)\n",
        "\n",
        "A = Group(\"A\", .0466, 3400.00, False,0)\n",
        "B = Group(\"B\", .0466, 1996.08, True,0)\n",
        "C = Group(\"C\", .0429, 5500.00, False, 0)\n",
        "D = Group(\"D\", .0429, 2103.66, True,0)\n",
        "E = Group(\"E\", .0376, 7739.26, True,0)\n",
        "G = Group(\"G\", .0445, 7662.62, True,0)\n",
        "\n",
        "\n",
        "groups = [B,D,E,G]\n",
        "total_principal = 0\n",
        "\n",
        "# Total Principal\n",
        "for group in groups:\n",
        "  total_principal += round(group.principal,2)\n",
        "\n",
        "# Main Munch\n",
        "month_watch = 0\n",
        "for i in range(1,730):\n",
        "  leftover = 0\n",
        "  if(month_watch == 0):\n",
        "    leftover = payment_exp_1(groups,1200,High_Rate)\n",
        "    if(leftover != 0):\n",
        "      payment_exp_1(groups,leftover, High_Rate)\n",
        "    for group in groups:\n",
        "      group.record()\n",
        "    month_watch = PAYMENT_TIME\n",
        "  else:\n",
        "    for group in groups:\n",
        "      group.record()\n",
        "    month_watch -=1\n",
        "\n",
        "histories = [B.history,D.history,E.history,G.history]\n",
        "plt.figure()\n",
        "concated = pd.concat(histories)\n",
        "\n",
        "concated.plot(y='Day Cost')\n",
        "concated.plot(y='Principal')\n",
        "total = 0\n",
        "for group in groups:\n",
        "  for payment in group.payments:\n",
        "    total += payment[1]\n",
        "print(total-total_principal)\n",
        "print(\"B: \" + str(B.done))\n",
        "print(\"D: \" + str(D.done))\n",
        "print(\"E: \" + str(E.done))\n",
        "print(\"G: \" + str(G.done))"
      ],
      "execution_count": 4,
      "outputs": [
        {
          "output_type": "stream",
          "text": [
            "552.9300000000003\n",
            "B: 465\n",
            "D: 434\n",
            "E: 496\n",
            "G: 496\n"
          ],
          "name": "stdout"
        },
        {
          "output_type": "display_data",
          "data": {
            "text/plain": [
              "<matplotlib.figure.Figure at 0x7f2422bd7f98>"
            ]
          },
          "metadata": {
            "tags": []
          }
        },
        {
          "output_type": "display_data",
          "data": {
            "image/png": "[encoded data removed]",
            "text/plain": [
              "<matplotlib.figure.Figure at 0x7f24403ef0f0>"
            ]
          },
          "metadata": {
            "tags": []
          }
        },
        {
          "output_type": "display_data",
          "data": {
            "image/png": "[encoded data removed]",
            "text/plain": [
              "<matplotlib.figure.Figure at 0x7f2422a81ef0>"
            ]
          },
          "metadata": {
            "tags": []
          }
        }
      ]
    }
  ]
}